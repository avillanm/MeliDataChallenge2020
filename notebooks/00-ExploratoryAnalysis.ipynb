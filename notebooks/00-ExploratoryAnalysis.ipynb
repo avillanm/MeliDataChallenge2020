{
 "cells": [
  {
   "cell_type": "markdown",
   "metadata": {},
   "source": [
    "# Análisis exploratorio inicial y baselines\n",
    "\n",
    "### Principales insights\n",
    "\n",
    "* El 30% de los productos comprados aparecen en el historial.\n",
    "\n",
    "* El ndcg baseline fue 0.20850. Consiste en tomar el historial de visitas en orden temporal (más reciente más importante), rellenando con productos más visitados."
   ]
  },
  {
   "cell_type": "code",
   "execution_count": 1,
   "metadata": {},
   "outputs": [],
   "source": [
    "import pandas as pd\n",
    "import numpy as np\n",
    "import json\n",
    "from collections import Counter"
   ]
  },
  {
   "cell_type": "markdown",
   "metadata": {},
   "source": [
    "## Revisa si existe algún producto que tienen un evento view antes de ser comprado"
   ]
  },
  {
   "cell_type": "code",
   "execution_count": 2,
   "metadata": {},
   "outputs": [],
   "source": [
    "viewed_count = 0\n",
    "line_idx = 0\n",
    "with open(\"./data/train_dataset.jl\", \"rt\") as fd:\n",
    "    for line in fd:\n",
    "        line_idx += 1 \n",
    "        data = json.loads(line)\n",
    "        viewed_count += data[\"item_bought\"] in set([event[\"event_info\"] for event in data[\"user_history\"] if event[\"event_type\"] == \"view\"])"
   ]
  },
  {
   "cell_type": "code",
   "execution_count": 3,
   "metadata": {},
   "outputs": [
    {
     "name": "stdout",
     "output_type": "stream",
     "text": [
      "Proporción de productos vistos 29.39%\n"
     ]
    }
   ],
   "source": [
    "print(f\"Proporción de productos vistos {viewed_count *100 / line_idx:.2f}%\")"
   ]
  },
  {
   "cell_type": "markdown",
   "metadata": {},
   "source": [
    "## Revisa si el historial está ordenado\n",
    "\n",
    "El historial está ordenado por fecha de forma creciente"
   ]
  },
  {
   "cell_type": "code",
   "execution_count": 4,
   "metadata": {},
   "outputs": [],
   "source": [
    "with open(\"./data/train_dataset.jl\", \"rt\") as fd:\n",
    "    for line in fd:\n",
    "        data = json.loads(line)\n",
    "        last_event_time = \"0\"\n",
    "        for event in data[\"user_history\"]:\n",
    "            assert(last_event_time <= event['event_timestamp']) \n",
    "            last_event_time = event['event_timestamp']"
   ]
  },
  {
   "cell_type": "code",
   "execution_count": 5,
   "metadata": {},
   "outputs": [],
   "source": [
    "with open(\"./data/test_dataset.jl\", \"rt\") as fd:\n",
    "    for line in fd:\n",
    "        data = json.loads(line)\n",
    "        last_event_time = \"0\"\n",
    "        for event in data[\"user_history\"]:\n",
    "            assert(last_event_time <= event['event_timestamp']) \n",
    "            last_event_time = event['event_timestamp']"
   ]
  },
  {
   "cell_type": "markdown",
   "metadata": {},
   "source": [
    "No se diferencian las fechas por timezone"
   ]
  },
  {
   "cell_type": "code",
   "execution_count": 6,
   "metadata": {},
   "outputs": [],
   "source": [
    "time_offset_counter = Counter()\n",
    "with open(\"./data/train_dataset.jl\", \"rt\") as fd:\n",
    "    for line in fd:\n",
    "        data = json.loads(line)\n",
    "        time_offset_counter.update(set([event['event_timestamp'][-5:] for event in data[\"user_history\"]]))\n",
    "            \n"
   ]
  },
  {
   "cell_type": "code",
   "execution_count": 7,
   "metadata": {},
   "outputs": [
    {
     "data": {
      "text/plain": [
       "Counter({'-0400': 413163})"
      ]
     },
     "execution_count": 7,
     "metadata": {},
     "output_type": "execute_result"
    }
   ],
   "source": [
    "time_offset_counter"
   ]
  },
  {
   "cell_type": "markdown",
   "metadata": {},
   "source": [
    "## Productos comprados más populares"
   ]
  },
  {
   "cell_type": "code",
   "execution_count": 12,
   "metadata": {},
   "outputs": [],
   "source": [
    "items_bought = Counter()\n",
    "line_idx = 0\n",
    "with open(\"./data/train_dataset.jl\", \"rt\") as fd:\n",
    "    for line in fd:\n",
    "        line_idx += 1 \n",
    "        data = json.loads(line)\n",
    "        items_bought[data[\"item_bought\"]] += 1\n",
    "        "
   ]
  },
  {
   "cell_type": "code",
   "execution_count": 13,
   "metadata": {},
   "outputs": [
    {
     "name": "stdout",
     "output_type": "stream",
     "text": [
      "Total productos comprados: 64,928\n"
     ]
    }
   ],
   "source": [
    "print(f\"Total productos comprados: {len(items_bought):,d}\")"
   ]
  },
  {
   "cell_type": "code",
   "execution_count": 14,
   "metadata": {},
   "outputs": [],
   "source": [
    "df_items_bought = pd.DataFrame(items_bought.most_common(), columns=[\"item\", \"freq\"])\n",
    "df_items_bought[\"density\"] = df_items_bought.freq / df_items_bought.freq.sum()"
   ]
  },
  {
   "cell_type": "markdown",
   "metadata": {},
   "source": [
    "No existen items muy populares. El más popular representa el 0.1% de los casos"
   ]
  },
  {
   "cell_type": "code",
   "execution_count": 15,
   "metadata": {},
   "outputs": [
    {
     "data": {
      "text/html": [
       "<div>\n",
       "<style scoped>\n",
       "    .dataframe tbody tr th:only-of-type {\n",
       "        vertical-align: middle;\n",
       "    }\n",
       "\n",
       "    .dataframe tbody tr th {\n",
       "        vertical-align: top;\n",
       "    }\n",
       "\n",
       "    .dataframe thead th {\n",
       "        text-align: right;\n",
       "    }\n",
       "</style>\n",
       "<table border=\"1\" class=\"dataframe\">\n",
       "  <thead>\n",
       "    <tr style=\"text-align: right;\">\n",
       "      <th></th>\n",
       "      <th>item</th>\n",
       "      <th>freq</th>\n",
       "      <th>density</th>\n",
       "    </tr>\n",
       "  </thead>\n",
       "  <tbody>\n",
       "    <tr>\n",
       "      <th>0</th>\n",
       "      <td>1587422</td>\n",
       "      <td>558</td>\n",
       "      <td>0.001351</td>\n",
       "    </tr>\n",
       "    <tr>\n",
       "      <th>1</th>\n",
       "      <td>1803710</td>\n",
       "      <td>384</td>\n",
       "      <td>0.000929</td>\n",
       "    </tr>\n",
       "    <tr>\n",
       "      <th>2</th>\n",
       "      <td>10243</td>\n",
       "      <td>371</td>\n",
       "      <td>0.000898</td>\n",
       "    </tr>\n",
       "    <tr>\n",
       "      <th>3</th>\n",
       "      <td>548905</td>\n",
       "      <td>348</td>\n",
       "      <td>0.000842</td>\n",
       "    </tr>\n",
       "    <tr>\n",
       "      <th>4</th>\n",
       "      <td>1906937</td>\n",
       "      <td>344</td>\n",
       "      <td>0.000833</td>\n",
       "    </tr>\n",
       "    <tr>\n",
       "      <th>5</th>\n",
       "      <td>716822</td>\n",
       "      <td>330</td>\n",
       "      <td>0.000799</td>\n",
       "    </tr>\n",
       "    <tr>\n",
       "      <th>6</th>\n",
       "      <td>1361154</td>\n",
       "      <td>326</td>\n",
       "      <td>0.000789</td>\n",
       "    </tr>\n",
       "    <tr>\n",
       "      <th>7</th>\n",
       "      <td>1716388</td>\n",
       "      <td>324</td>\n",
       "      <td>0.000784</td>\n",
       "    </tr>\n",
       "    <tr>\n",
       "      <th>8</th>\n",
       "      <td>725371</td>\n",
       "      <td>322</td>\n",
       "      <td>0.000779</td>\n",
       "    </tr>\n",
       "    <tr>\n",
       "      <th>9</th>\n",
       "      <td>859574</td>\n",
       "      <td>322</td>\n",
       "      <td>0.000779</td>\n",
       "    </tr>\n",
       "  </tbody>\n",
       "</table>\n",
       "</div>"
      ],
      "text/plain": [
       "      item  freq   density\n",
       "0  1587422   558  0.001351\n",
       "1  1803710   384  0.000929\n",
       "2    10243   371  0.000898\n",
       "3   548905   348  0.000842\n",
       "4  1906937   344  0.000833\n",
       "5   716822   330  0.000799\n",
       "6  1361154   326  0.000789\n",
       "7  1716388   324  0.000784\n",
       "8   725371   322  0.000779\n",
       "9   859574   322  0.000779"
      ]
     },
     "execution_count": 15,
     "metadata": {},
     "output_type": "execute_result"
    }
   ],
   "source": [
    "df_items_bought.head(10)"
   ]
  },
  {
   "cell_type": "code",
   "execution_count": 16,
   "metadata": {},
   "outputs": [
    {
     "data": {
      "image/png": "[encoded data removed]",
      "text/plain": [
       "<Figure size 1440x360 with 1 Axes>"
      ]
     },
     "metadata": {
      "needs_background": "light"
     },
     "output_type": "display_data"
    }
   ],
   "source": [
    "ax = df_items_bought.density.cumsum().plot(grid=True, figsize=(20,5));\n",
    "ax.set_title(\"Ventas acumuladas\", fontsize=14);"
   ]
  },
  {
   "cell_type": "code",
   "execution_count": 17,
   "metadata": {},
   "outputs": [
    {
     "data": {
      "image/png": "[encoded data removed]",
      "text/plain": [
       "<Figure size 1440x360 with 1 Axes>"
      ]
     },
     "metadata": {
      "needs_background": "light"
     },
     "output_type": "display_data"
    }
   ],
   "source": [
    "ax = df_items_bought.density.cumsum()[:10000].plot(grid=True, figsize=(20,5));\n",
    "ax.set_title(\"Ventas acumuladas de los 10.000 productos más populares\", fontsize=14);"
   ]
  },
  {
   "cell_type": "markdown",
   "metadata": {},
   "source": [
    "## Productos más visitados"
   ]
  },
  {
   "cell_type": "code",
   "execution_count": 18,
   "metadata": {},
   "outputs": [],
   "source": [
    "items_pv = Counter()\n",
    "items_unique_users = Counter()\n",
    "line_idx = 0\n",
    "with open(\"./data/train_dataset.jl\", \"rt\") as fd:\n",
    "    for line in fd:\n",
    "        line_idx += 1\n",
    "        data = json.loads(line)\n",
    "        view = [event[\"event_info\"] for event in data[\"user_history\"] if event[\"event_type\"] == \"view\"]\n",
    "        items_pv.update(view)\n",
    "        items_unique_users.update(set(view))"
   ]
  },
  {
   "cell_type": "code",
   "execution_count": 19,
   "metadata": {},
   "outputs": [
    {
     "name": "stdout",
     "output_type": "stream",
     "text": [
      "Total productos visitados: 1,601,277\n"
     ]
    }
   ],
   "source": [
    "print(f\"Total productos visitados: {len(items_pv):,d}\")"
   ]
  },
  {
   "cell_type": "code",
   "execution_count": 20,
   "metadata": {},
   "outputs": [],
   "source": [
    "df_items_view = (\n",
    "    pd.DataFrame(items_unique_users.most_common(), columns=[\"item\", \"users\"]).merge(\n",
    "        pd.DataFrame(items_pv.most_common(), columns=[\"item\", \"views\"]),\n",
    "        on=\"item\")\n",
    "    )"
   ]
  },
  {
   "cell_type": "code",
   "execution_count": 21,
   "metadata": {},
   "outputs": [
    {
     "data": {
      "text/html": [
       "<div>\n",
       "<style scoped>\n",
       "    .dataframe tbody tr th:only-of-type {\n",
       "        vertical-align: middle;\n",
       "    }\n",
       "\n",
       "    .dataframe tbody tr th {\n",
       "        vertical-align: top;\n",
       "    }\n",
       "\n",
       "    .dataframe thead th {\n",
       "        text-align: right;\n",
       "    }\n",
       "</style>\n",
       "<table border=\"1\" class=\"dataframe\">\n",
       "  <thead>\n",
       "    <tr style=\"text-align: right;\">\n",
       "      <th></th>\n",
       "      <th>item</th>\n",
       "      <th>users</th>\n",
       "      <th>views</th>\n",
       "    </tr>\n",
       "  </thead>\n",
       "  <tbody>\n",
       "    <tr>\n",
       "      <th>0</th>\n",
       "      <td>1587422</td>\n",
       "      <td>2054</td>\n",
       "      <td>5094</td>\n",
       "    </tr>\n",
       "    <tr>\n",
       "      <th>1</th>\n",
       "      <td>849156</td>\n",
       "      <td>1346</td>\n",
       "      <td>3289</td>\n",
       "    </tr>\n",
       "    <tr>\n",
       "      <th>2</th>\n",
       "      <td>10243</td>\n",
       "      <td>926</td>\n",
       "      <td>2598</td>\n",
       "    </tr>\n",
       "    <tr>\n",
       "      <th>3</th>\n",
       "      <td>1716388</td>\n",
       "      <td>920</td>\n",
       "      <td>2265</td>\n",
       "    </tr>\n",
       "    <tr>\n",
       "      <th>4</th>\n",
       "      <td>1361154</td>\n",
       "      <td>917</td>\n",
       "      <td>2522</td>\n",
       "    </tr>\n",
       "    <tr>\n",
       "      <th>5</th>\n",
       "      <td>882697</td>\n",
       "      <td>832</td>\n",
       "      <td>2506</td>\n",
       "    </tr>\n",
       "    <tr>\n",
       "      <th>6</th>\n",
       "      <td>1803710</td>\n",
       "      <td>829</td>\n",
       "      <td>2928</td>\n",
       "    </tr>\n",
       "    <tr>\n",
       "      <th>7</th>\n",
       "      <td>119703</td>\n",
       "      <td>786</td>\n",
       "      <td>2000</td>\n",
       "    </tr>\n",
       "    <tr>\n",
       "      <th>8</th>\n",
       "      <td>1371799</td>\n",
       "      <td>700</td>\n",
       "      <td>1910</td>\n",
       "    </tr>\n",
       "    <tr>\n",
       "      <th>9</th>\n",
       "      <td>716822</td>\n",
       "      <td>679</td>\n",
       "      <td>2212</td>\n",
       "    </tr>\n",
       "  </tbody>\n",
       "</table>\n",
       "</div>"
      ],
      "text/plain": [
       "      item  users  views\n",
       "0  1587422   2054   5094\n",
       "1   849156   1346   3289\n",
       "2    10243    926   2598\n",
       "3  1716388    920   2265\n",
       "4  1361154    917   2522\n",
       "5   882697    832   2506\n",
       "6  1803710    829   2928\n",
       "7   119703    786   2000\n",
       "8  1371799    700   1910\n",
       "9   716822    679   2212"
      ]
     },
     "execution_count": 21,
     "metadata": {},
     "output_type": "execute_result"
    }
   ],
   "source": [
    "df_items_view.head(10)"
   ]
  },
  {
   "cell_type": "code",
   "execution_count": 22,
   "metadata": {},
   "outputs": [
    {
     "data": {
      "text/html": [
       "<div>\n",
       "<style scoped>\n",
       "    .dataframe tbody tr th:only-of-type {\n",
       "        vertical-align: middle;\n",
       "    }\n",
       "\n",
       "    .dataframe tbody tr th {\n",
       "        vertical-align: top;\n",
       "    }\n",
       "\n",
       "    .dataframe thead th {\n",
       "        text-align: right;\n",
       "    }\n",
       "</style>\n",
       "<table border=\"1\" class=\"dataframe\">\n",
       "  <thead>\n",
       "    <tr style=\"text-align: right;\">\n",
       "      <th></th>\n",
       "      <th>item</th>\n",
       "      <th>freq</th>\n",
       "      <th>density</th>\n",
       "    </tr>\n",
       "  </thead>\n",
       "  <tbody>\n",
       "    <tr>\n",
       "      <th>0</th>\n",
       "      <td>1587422</td>\n",
       "      <td>558</td>\n",
       "      <td>0.001351</td>\n",
       "    </tr>\n",
       "    <tr>\n",
       "      <th>1</th>\n",
       "      <td>1803710</td>\n",
       "      <td>384</td>\n",
       "      <td>0.000929</td>\n",
       "    </tr>\n",
       "    <tr>\n",
       "      <th>2</th>\n",
       "      <td>10243</td>\n",
       "      <td>371</td>\n",
       "      <td>0.000898</td>\n",
       "    </tr>\n",
       "    <tr>\n",
       "      <th>3</th>\n",
       "      <td>548905</td>\n",
       "      <td>348</td>\n",
       "      <td>0.000842</td>\n",
       "    </tr>\n",
       "    <tr>\n",
       "      <th>4</th>\n",
       "      <td>1906937</td>\n",
       "      <td>344</td>\n",
       "      <td>0.000833</td>\n",
       "    </tr>\n",
       "    <tr>\n",
       "      <th>5</th>\n",
       "      <td>716822</td>\n",
       "      <td>330</td>\n",
       "      <td>0.000799</td>\n",
       "    </tr>\n",
       "    <tr>\n",
       "      <th>6</th>\n",
       "      <td>1361154</td>\n",
       "      <td>326</td>\n",
       "      <td>0.000789</td>\n",
       "    </tr>\n",
       "    <tr>\n",
       "      <th>7</th>\n",
       "      <td>1716388</td>\n",
       "      <td>324</td>\n",
       "      <td>0.000784</td>\n",
       "    </tr>\n",
       "    <tr>\n",
       "      <th>8</th>\n",
       "      <td>725371</td>\n",
       "      <td>322</td>\n",
       "      <td>0.000779</td>\n",
       "    </tr>\n",
       "    <tr>\n",
       "      <th>9</th>\n",
       "      <td>859574</td>\n",
       "      <td>322</td>\n",
       "      <td>0.000779</td>\n",
       "    </tr>\n",
       "  </tbody>\n",
       "</table>\n",
       "</div>"
      ],
      "text/plain": [
       "      item  freq   density\n",
       "0  1587422   558  0.001351\n",
       "1  1803710   384  0.000929\n",
       "2    10243   371  0.000898\n",
       "3   548905   348  0.000842\n",
       "4  1906937   344  0.000833\n",
       "5   716822   330  0.000799\n",
       "6  1361154   326  0.000789\n",
       "7  1716388   324  0.000784\n",
       "8   725371   322  0.000779\n",
       "9   859574   322  0.000779"
      ]
     },
     "execution_count": 22,
     "metadata": {},
     "output_type": "execute_result"
    }
   ],
   "source": [
    "df_items_bought.head(10)"
   ]
  },
  {
   "cell_type": "markdown",
   "metadata": {},
   "source": [
    "## Productos de catálogo"
   ]
  },
  {
   "cell_type": "markdown",
   "metadata": {},
   "source": [
    "En el dominio o la categoría se codifica el país"
   ]
  },
  {
   "cell_type": "code",
   "execution_count": 23,
   "metadata": {},
   "outputs": [],
   "source": [
    "category_count = Counter()\n",
    "domain_count = Counter()\n",
    "country_count = Counter()\n",
    "items_count = 0\n",
    "domain_null_count = 0\n",
    "with open(\"./data/item_data.jl\", \"rt\") as fd:\n",
    "    for line in fd:\n",
    "        items_count += 1\n",
    "        data = json.loads(line)\n",
    "        category_count[data[\"category_id\"]] += 1\n",
    "        domain_count[data[\"domain_id\"]] += 1\n",
    "        if data[\"domain_id\"] == None:\n",
    "            domain_null_count += 1\n",
    "               \n",
    "        country_count[data[\"category_id\"][:3]] += 1\n"
   ]
  },
  {
   "cell_type": "code",
   "execution_count": 24,
   "metadata": {},
   "outputs": [
    {
     "data": {
      "text/plain": [
       "{'item_id': 2010306,\n",
       " 'title': 'Kit Turbo Turbina Virtual Simulador Som Apito Carro E Moto',\n",
       " 'domain_id': 'MLB-VEHICLE_ACCESSORIES',\n",
       " 'product_id': None,\n",
       " 'price': '64.99',\n",
       " 'category_id': 'MLB117639',\n",
       " 'condition': 'new'}"
      ]
     },
     "execution_count": 24,
     "metadata": {},
     "output_type": "execute_result"
    }
   ],
   "source": [
    "data"
   ]
  },
  {
   "cell_type": "code",
   "execution_count": 25,
   "metadata": {},
   "outputs": [
    {
     "name": "stdout",
     "output_type": "stream",
     "text": [
      "Total productos catálogo: 2,102,277\n",
      "Total categorías: 11,493\n",
      "Total dominios: 7,894\n",
      "Productos sin dominios: 851\n"
     ]
    }
   ],
   "source": [
    "print(f\"Total productos catálogo: {items_count:,d}\")\n",
    "print(f\"Total categorías: {len(category_count):,d}\")\n",
    "print(f\"Total dominios: {len(domain_count):,d}\")\n",
    "print(f\"Productos sin dominios: {domain_null_count:,d}\")"
   ]
  },
  {
   "cell_type": "markdown",
   "metadata": {},
   "source": [
    "La mayoría de los productos son Brasileños"
   ]
  },
  {
   "cell_type": "code",
   "execution_count": 26,
   "metadata": {},
   "outputs": [
    {
     "data": {
      "text/plain": [
       "[('MLB', 1723826), ('MLM', 378451)]"
      ]
     },
     "execution_count": 26,
     "metadata": {},
     "output_type": "execute_result"
    }
   ],
   "source": [
    "country_count.most_common(2)"
   ]
  },
  {
   "cell_type": "code",
   "execution_count": 27,
   "metadata": {},
   "outputs": [
    {
     "data": {
      "text/plain": [
       "[('MLB-CARS_AND_VANS', 41420),\n",
       " ('MLB-CELLPHONES', 38390),\n",
       " ('MLB-SNEAKERS', 32636),\n",
       " ('MLB-VEHICLE_ACCESSORIES', 28986),\n",
       " ('MLB-T_SHIRTS', 23823),\n",
       " ('MLB-SUPPLEMENTS', 22351),\n",
       " ('MLB-DRESSES', 21590),\n",
       " ('MLB-VEHICLE_PARTS', 18727),\n",
       " ('MLB-SANDALS_AND_FLIP_FLOPS', 15102),\n",
       " ('MLM-CARS_AND_VANS', 14165)]"
      ]
     },
     "execution_count": 27,
     "metadata": {},
     "output_type": "execute_result"
    }
   ],
   "source": [
    "domain_count.most_common(10)"
   ]
  },
  {
   "cell_type": "code",
   "execution_count": 28,
   "metadata": {},
   "outputs": [
    {
     "data": {
      "text/plain": [
       "[('MLB1744', 41204),\n",
       " ('MLB1055', 38390),\n",
       " ('MLB23332', 31204),\n",
       " ('MLB31447', 23653),\n",
       " ('MLB108704', 20703),\n",
       " ('MLB122102', 17821),\n",
       " ('MLB273770', 15102),\n",
       " ('MLM1744', 14144),\n",
       " ('MLB1839', 13596),\n",
       " ('MLB32130', 13441)]"
      ]
     },
     "execution_count": 28,
     "metadata": {},
     "output_type": "execute_result"
    }
   ],
   "source": [
    "category_count.most_common(10)"
   ]
  },
  {
   "cell_type": "markdown",
   "metadata": {},
   "source": [
    "Índices de dominios"
   ]
  },
  {
   "cell_type": "code",
   "execution_count": 30,
   "metadata": {},
   "outputs": [],
   "source": [
    "domain_to_index = {domain_id: index for index, (domain_id, _) in enumerate(domain_count.most_common())}"
   ]
  },
  {
   "cell_type": "code",
   "execution_count": 31,
   "metadata": {},
   "outputs": [],
   "source": [
    "item_id_to_domain_idx = {}\n",
    "with open(\"./data/item_data.jl\", \"rt\") as fd:\n",
    "    for line in fd:\n",
    "        data = json.loads(line)\n",
    "        item_id_to_domain_idx[data[\"item_id\"]] = domain_to_index[data[\"domain_id\"]]"
   ]
  },
  {
   "cell_type": "markdown",
   "metadata": {},
   "source": [
    "## Compras según catálogo"
   ]
  },
  {
   "cell_type": "code",
   "execution_count": 32,
   "metadata": {},
   "outputs": [],
   "source": [
    "catalog = {}\n",
    "with open(\"./data/item_data.jl\", \"rt\") as fd:\n",
    "    for line in fd:\n",
    "        items_count += 1\n",
    "        data = json.loads(line)\n",
    "        item_id = data.pop(\"item_id\")\n",
    "        catalog[item_id] = data"
   ]
  },
  {
   "cell_type": "code",
   "execution_count": 34,
   "metadata": {},
   "outputs": [
    {
     "data": {
      "text/plain": [
       "{'title': 'Kit Turbo Turbina Virtual Simulador Som Apito Carro E Moto',\n",
       " 'domain_id': 'MLB-VEHICLE_ACCESSORIES',\n",
       " 'product_id': None,\n",
       " 'price': '64.99',\n",
       " 'category_id': 'MLB117639',\n",
       " 'condition': 'new'}"
      ]
     },
     "execution_count": 34,
     "metadata": {},
     "output_type": "execute_result"
    }
   ],
   "source": [
    "data"
   ]
  },
  {
   "cell_type": "code",
   "execution_count": 37,
   "metadata": {},
   "outputs": [],
   "source": [
    "condition_count = Counter()\n",
    "used_top_sales = Counter()\n",
    "with open(\"./data/train_dataset.jl\", \"rt\") as fd:\n",
    "    for line in fd:\n",
    "        line_idx += 1\n",
    "        data = json.loads(line)\n",
    "        bought = data[\"item_bought\"]\n",
    "        condition = catalog[bought][\"condition\"]\n",
    "        condition_count[condition] += 1\n",
    "        if condition == 'used':\n",
    "            used_top_sales[bought] += 1"
   ]
  },
  {
   "cell_type": "markdown",
   "metadata": {},
   "source": [
    "Muy pocos productos usados son comprados"
   ]
  },
  {
   "cell_type": "code",
   "execution_count": 38,
   "metadata": {},
   "outputs": [
    {
     "data": {
      "text/plain": [
       "[('new', 412637), ('used', 411), ('not_specified', 115)]"
      ]
     },
     "execution_count": 38,
     "metadata": {},
     "output_type": "execute_result"
    }
   ],
   "source": [
    "condition_count.most_common()"
   ]
  },
  {
   "cell_type": "markdown",
   "metadata": {},
   "source": [
    "Los proudctos usados suelen venderse más de una vez"
   ]
  },
  {
   "cell_type": "code",
   "execution_count": 39,
   "metadata": {},
   "outputs": [
    {
     "data": {
      "text/plain": [
       "[(1352725, 39),\n",
       " (947444, 21),\n",
       " (254797, 16),\n",
       " (1860643, 16),\n",
       " (275235, 15),\n",
       " (1378614, 13),\n",
       " (1994583, 12),\n",
       " (1295086, 12),\n",
       " (1497812, 10),\n",
       " (1337002, 10)]"
      ]
     },
     "execution_count": 39,
     "metadata": {},
     "output_type": "execute_result"
    }
   ],
   "source": [
    "used_top_sales.most_common(10)"
   ]
  },
  {
   "cell_type": "code",
   "execution_count": 84,
   "metadata": {},
   "outputs": [
    {
     "data": {
      "text/plain": [
       "{'title': 'Recarga De Telcel De $100 A Solo $80',\n",
       " 'domain_id': 'MLM-UNCLASSIFIED_PRODUCTS',\n",
       " 'product_id': None,\n",
       " 'price': '80.00',\n",
       " 'category_id': 'MLM3530',\n",
       " 'condition': 'used'}"
      ]
     },
     "execution_count": 84,
     "metadata": {},
     "output_type": "execute_result"
    }
   ],
   "source": [
    "catalog[1352725]"
   ]
  },
  {
   "cell_type": "markdown",
   "metadata": {},
   "source": [
    "La mayoría de los productos no tiene un product_id"
   ]
  },
  {
   "cell_type": "code",
   "execution_count": 41,
   "metadata": {},
   "outputs": [
    {
     "data": {
      "text/plain": [
       "[(None, 1805749),\n",
       " ('14141079', 1361),\n",
       " ('15047011', 899),\n",
       " ('13527776', 846),\n",
       " ('14906502', 648),\n",
       " ('15283837', 575),\n",
       " ('14786768', 571),\n",
       " ('14482698', 540),\n",
       " ('13841392', 532),\n",
       " ('15188551', 515)]"
      ]
     },
     "execution_count": 41,
     "metadata": {},
     "output_type": "execute_result"
    }
   ],
   "source": [
    "Counter([item[\"product_id\"] for item in catalog.values()]).most_common(10)"
   ]
  },
  {
   "cell_type": "code",
   "execution_count": 43,
   "metadata": {},
   "outputs": [],
   "source": [
    "condition_count = Counter()\n",
    "sales_with_product_id = 0\n",
    "\n",
    "total_sales = 0\n",
    "with open(\"./data/train_dataset.jl\", \"rt\") as fd:\n",
    "    for line in fd:\n",
    "        data = json.loads(line)\n",
    "        bought = data[\"item_bought\"]\n",
    "        if catalog[bought][\"product_id\"]:\n",
    "            sales_with_product_id += 1        \n",
    "        total_sales += 1"
   ]
  },
  {
   "cell_type": "code",
   "execution_count": 44,
   "metadata": {},
   "outputs": [],
   "source": [
    "products_with_product_id = 0\n",
    "for item in catalog.values():\n",
    "    if item[\"product_id\"]:\n",
    "        products_with_product_id += 1"
   ]
  },
  {
   "cell_type": "markdown",
   "metadata": {},
   "source": [
    "La proporción del productos con atributo product_id es mayor en las ventas que en el catálogo."
   ]
  },
  {
   "cell_type": "code",
   "execution_count": 46,
   "metadata": {},
   "outputs": [
    {
     "data": {
      "text/plain": [
       "(0.26018060668549703, 0.14105087008039377)"
      ]
     },
     "execution_count": 46,
     "metadata": {},
     "output_type": "execute_result"
    }
   ],
   "source": [
    "sales_with_product_id / total_sales, products_with_product_id / len(catalog)"
   ]
  },
  {
   "cell_type": "markdown",
   "metadata": {},
   "source": [
    "¿Todos los productos tienen precio?"
   ]
  },
  {
   "cell_type": "code",
   "execution_count": 116,
   "metadata": {},
   "outputs": [],
   "source": [
    "products_with_price = 0\n",
    "for item in catalog.values():\n",
    "    if item[\"price\"] != None:\n",
    "        float(item[\"price\"])\n",
    "        products_with_price += 1"
   ]
  },
  {
   "cell_type": "markdown",
   "metadata": {},
   "source": [
    "La mayoría de los productos tienen precio"
   ]
  },
  {
   "cell_type": "code",
   "execution_count": 117,
   "metadata": {},
   "outputs": [
    {
     "data": {
      "text/plain": [
       "(0.9998387462736833, 339)"
      ]
     },
     "execution_count": 117,
     "metadata": {},
     "output_type": "execute_result"
    }
   ],
   "source": [
    "products_with_price / len(catalog), len(catalog) - products_with_price"
   ]
  },
  {
   "cell_type": "markdown",
   "metadata": {},
   "source": [
    "De los que no tienen precio, ninguno se vendió"
   ]
  },
  {
   "cell_type": "code",
   "execution_count": 47,
   "metadata": {},
   "outputs": [],
   "source": [
    "condition_count = Counter()\n",
    "sales_no_price = 0\n",
    "views_no_price = 0\n",
    "total_sales = 0\n",
    "with open(\"./data/train_dataset.jl\", \"rt\") as fd:\n",
    "    for line in fd:\n",
    "        data = json.loads(line)\n",
    "        bought = data[\"item_bought\"]\n",
    "        sales_no_price += 1 if catalog[bought][\"price\"] == None else 0\n",
    "        views = set([event[\"event_info\"] for event in data[\"user_history\"] if event[\"event_type\"] == \"view\"])\n",
    "        \n",
    "        views_no_price += len([1 for item in views if catalog[item][\"price\"] == None])\n",
    "        total_sales += 1"
   ]
  },
  {
   "cell_type": "code",
   "execution_count": 120,
   "metadata": {},
   "outputs": [
    {
     "data": {
      "text/plain": [
       "0"
      ]
     },
     "execution_count": 120,
     "metadata": {},
     "output_type": "execute_result"
    }
   ],
   "source": [
    "sales_no_price"
   ]
  },
  {
   "cell_type": "markdown",
   "metadata": {},
   "source": [
    "Pero la mayoría tuvo visitas"
   ]
  },
  {
   "cell_type": "code",
   "execution_count": 49,
   "metadata": {},
   "outputs": [
    {
     "data": {
      "text/plain": [
       "313"
      ]
     },
     "execution_count": 49,
     "metadata": {},
     "output_type": "execute_result"
    }
   ],
   "source": [
    "views_no_price"
   ]
  },
  {
   "cell_type": "markdown",
   "metadata": {},
   "source": [
    "Tampoco se vendieron productos sin dominio"
   ]
  },
  {
   "cell_type": "code",
   "execution_count": 50,
   "metadata": {},
   "outputs": [],
   "source": [
    "\n",
    "sales_without_domain_id = 0\n",
    "views_without_domain_id = 0\n",
    "\n",
    "total_sales = 0\n",
    "with open(\"./data/train_dataset.jl\", \"rt\") as fd:\n",
    "    for line in fd:\n",
    "        \n",
    "        data = json.loads(line)\n",
    "        bought = data[\"item_bought\"]\n",
    "        sales_without_domain_id += 1 if catalog[bought][\"domain_id\"] == None else 0\n",
    "        views = set([event[\"event_info\"] for event in data[\"user_history\"] if event[\"event_type\"] == \"view\"])\n",
    "        \n",
    "        views_without_domain_id += len([1 for item in views if catalog[item][\"domain_id\"] == None])\n",
    "        total_sales += 1"
   ]
  },
  {
   "cell_type": "code",
   "execution_count": 51,
   "metadata": {},
   "outputs": [
    {
     "data": {
      "text/plain": [
       "0"
      ]
     },
     "execution_count": 51,
     "metadata": {},
     "output_type": "execute_result"
    }
   ],
   "source": [
    "sales_without_domain_id"
   ]
  },
  {
   "cell_type": "code",
   "execution_count": 52,
   "metadata": {},
   "outputs": [
    {
     "data": {
      "text/plain": [
       "769"
      ]
     },
     "execution_count": 52,
     "metadata": {},
     "output_type": "execute_result"
    }
   ],
   "source": [
    "views_without_domain_id"
   ]
  },
  {
   "cell_type": "markdown",
   "metadata": {},
   "source": [
    "Todos los productos tienen título"
   ]
  },
  {
   "cell_type": "code",
   "execution_count": 53,
   "metadata": {},
   "outputs": [
    {
     "data": {
      "text/plain": [
       "True"
      ]
     },
     "execution_count": 53,
     "metadata": {},
     "output_type": "execute_result"
    }
   ],
   "source": [
    "len([1 for item in catalog.values() if len(item[\"title\"]) == 0]) == 0"
   ]
  },
  {
   "cell_type": "markdown",
   "metadata": {},
   "source": [
    "Algunos tienen títulos muy cortos"
   ]
  },
  {
   "cell_type": "code",
   "execution_count": 54,
   "metadata": {},
   "outputs": [
    {
     "data": {
      "text/plain": [
       "['D', 'X', 'L', '%', '¿', 'U', '.', 'C', 'C', '.', 'J', 'A', 'R', '¿', ',']"
      ]
     },
     "execution_count": 54,
     "metadata": {},
     "output_type": "execute_result"
    }
   ],
   "source": [
    "[item[\"title\"] for item in catalog.values() if len(item[\"title\"]) < 2 ]"
   ]
  },
  {
   "cell_type": "markdown",
   "metadata": {},
   "source": [
    "Si el título es muy chico la probabilidad de compra es muy baja"
   ]
  },
  {
   "cell_type": "code",
   "execution_count": 55,
   "metadata": {},
   "outputs": [
    {
     "data": {
      "text/plain": [
       "0.007273580478648522"
      ]
     },
     "execution_count": 55,
     "metadata": {},
     "output_type": "execute_result"
    }
   ],
   "source": [
    "len([1 for item_id, item in catalog.items() if len(item[\"title\"]) < 10 and items_bought[item_id] > 0]) / \\\n",
    "len([1 for item_id, item in catalog.items() if len(item[\"title\"]) < 10])"
   ]
  },
  {
   "cell_type": "markdown",
   "metadata": {},
   "source": [
    "En comparación, la proporción de productos con ventas en todo el catálogo es de un 3%"
   ]
  },
  {
   "cell_type": "code",
   "execution_count": 58,
   "metadata": {},
   "outputs": [
    {
     "data": {
      "text/plain": [
       "0.030884607499392324"
      ]
     },
     "execution_count": 58,
     "metadata": {},
     "output_type": "execute_result"
    }
   ],
   "source": [
    "len(items_bought) / len(catalog)"
   ]
  },
  {
   "cell_type": "markdown",
   "metadata": {},
   "source": [
    "La mayoría tuvieron visitas, aunque en menor proporción al resto del catálogo"
   ]
  },
  {
   "cell_type": "code",
   "execution_count": 61,
   "metadata": {},
   "outputs": [
    {
     "data": {
      "text/plain": [
       "0.7430783669638668"
      ]
     },
     "execution_count": 61,
     "metadata": {},
     "output_type": "execute_result"
    }
   ],
   "source": [
    "len([1 for item_id, item in catalog.items() if len(item[\"title\"]) < 10 and items_pv[item_id] > 0]) / \\\n",
    "len([1 for item_id, item in catalog.items() if len(item[\"title\"]) < 10])"
   ]
  },
  {
   "cell_type": "code",
   "execution_count": 62,
   "metadata": {},
   "outputs": [
    {
     "data": {
      "text/plain": [
       "0.7616869708416161"
      ]
     },
     "execution_count": 62,
     "metadata": {},
     "output_type": "execute_result"
    }
   ],
   "source": [
    "len(items_pv) / len(catalog)"
   ]
  },
  {
   "cell_type": "markdown",
   "metadata": {},
   "source": [
    "## Búsquedas"
   ]
  },
  {
   "cell_type": "code",
   "execution_count": 63,
   "metadata": {},
   "outputs": [],
   "source": [
    "line_idx = 0\n",
    "\n",
    "search_pv = Counter()\n",
    "search_unique_users = Counter()\n",
    "line_idx = 0\n",
    "with open(\"./data/train_dataset.jl\", \"rt\") as fd:\n",
    "    for line in fd:\n",
    "        line_idx += 1\n",
    "        data = json.loads(line)\n",
    "        searchs = [event[\"event_info\"] for event in data[\"user_history\"] if event[\"event_type\"] == \"search\"]\n",
    "        search_pv.update(searchs)\n",
    "        search_unique_users.update(set(searchs))"
   ]
  },
  {
   "cell_type": "code",
   "execution_count": 64,
   "metadata": {},
   "outputs": [
    {
     "name": "stdout",
     "output_type": "stream",
     "text": [
      "Total búsquedas únicas: 848,455\n"
     ]
    }
   ],
   "source": [
    "print(f\"Total búsquedas únicas: {len(search_pv):,d}\")"
   ]
  },
  {
   "cell_type": "code",
   "execution_count": 65,
   "metadata": {},
   "outputs": [],
   "source": [
    "df_searchs = (\n",
    "    pd.DataFrame(search_unique_users.most_common(), columns=[\"seach\", \"users\"]).merge(\n",
    "        pd.DataFrame(search_pv.most_common(), columns=[\"seach\", \"views\"]),\n",
    "        on=\"seach\")\n",
    "    )"
   ]
  },
  {
   "cell_type": "code",
   "execution_count": 66,
   "metadata": {},
   "outputs": [
    {
     "data": {
      "text/html": [
       "<div>\n",
       "<style scoped>\n",
       "    .dataframe tbody tr th:only-of-type {\n",
       "        vertical-align: middle;\n",
       "    }\n",
       "\n",
       "    .dataframe tbody tr th {\n",
       "        vertical-align: top;\n",
       "    }\n",
       "\n",
       "    .dataframe thead th {\n",
       "        text-align: right;\n",
       "    }\n",
       "</style>\n",
       "<table border=\"1\" class=\"dataframe\">\n",
       "  <thead>\n",
       "    <tr style=\"text-align: right;\">\n",
       "      <th></th>\n",
       "      <th>seach</th>\n",
       "      <th>users</th>\n",
       "      <th>views</th>\n",
       "    </tr>\n",
       "  </thead>\n",
       "  <tbody>\n",
       "    <tr>\n",
       "      <th>0</th>\n",
       "      <td>TENIS MASCULINO</td>\n",
       "      <td>2317</td>\n",
       "      <td>20689</td>\n",
       "    </tr>\n",
       "    <tr>\n",
       "      <th>1</th>\n",
       "      <td>CELULAR</td>\n",
       "      <td>2220</td>\n",
       "      <td>13005</td>\n",
       "    </tr>\n",
       "    <tr>\n",
       "      <th>2</th>\n",
       "      <td>CELULAR XIAOMI</td>\n",
       "      <td>2010</td>\n",
       "      <td>10358</td>\n",
       "    </tr>\n",
       "    <tr>\n",
       "      <th>3</th>\n",
       "      <td>RELOGIO SMARTWATCH</td>\n",
       "      <td>1908</td>\n",
       "      <td>12469</td>\n",
       "    </tr>\n",
       "    <tr>\n",
       "      <th>4</th>\n",
       "      <td>XIAOMU</td>\n",
       "      <td>1759</td>\n",
       "      <td>8109</td>\n",
       "    </tr>\n",
       "    <tr>\n",
       "      <th>5</th>\n",
       "      <td>FONE BLUETOOTH</td>\n",
       "      <td>1716</td>\n",
       "      <td>10299</td>\n",
       "    </tr>\n",
       "    <tr>\n",
       "      <th>6</th>\n",
       "      <td>BEBE REBORN</td>\n",
       "      <td>1590</td>\n",
       "      <td>16877</td>\n",
       "    </tr>\n",
       "    <tr>\n",
       "      <th>7</th>\n",
       "      <td>REDMI NOTE 7</td>\n",
       "      <td>1586</td>\n",
       "      <td>7747</td>\n",
       "    </tr>\n",
       "    <tr>\n",
       "      <th>8</th>\n",
       "      <td>TENIS FEMININO</td>\n",
       "      <td>1539</td>\n",
       "      <td>12199</td>\n",
       "    </tr>\n",
       "    <tr>\n",
       "      <th>9</th>\n",
       "      <td>MI BAND 4</td>\n",
       "      <td>1505</td>\n",
       "      <td>8430</td>\n",
       "    </tr>\n",
       "  </tbody>\n",
       "</table>\n",
       "</div>"
      ],
      "text/plain": [
       "                seach  users  views\n",
       "0     TENIS MASCULINO   2317  20689\n",
       "1             CELULAR   2220  13005\n",
       "2      CELULAR XIAOMI   2010  10358\n",
       "3  RELOGIO SMARTWATCH   1908  12469\n",
       "4              XIAOMU   1759   8109\n",
       "5      FONE BLUETOOTH   1716  10299\n",
       "6         BEBE REBORN   1590  16877\n",
       "7        REDMI NOTE 7   1586   7747\n",
       "8      TENIS FEMININO   1539  12199\n",
       "9           MI BAND 4   1505   8430"
      ]
     },
     "execution_count": 66,
     "metadata": {},
     "output_type": "execute_result"
    }
   ],
   "source": [
    "df_searchs.head(10)"
   ]
  },
  {
   "cell_type": "code",
   "execution_count": 67,
   "metadata": {},
   "outputs": [
    {
     "data": {
      "text/html": [
       "<div>\n",
       "<style scoped>\n",
       "    .dataframe tbody tr th:only-of-type {\n",
       "        vertical-align: middle;\n",
       "    }\n",
       "\n",
       "    .dataframe tbody tr th {\n",
       "        vertical-align: top;\n",
       "    }\n",
       "\n",
       "    .dataframe thead th {\n",
       "        text-align: right;\n",
       "    }\n",
       "</style>\n",
       "<table border=\"1\" class=\"dataframe\">\n",
       "  <thead>\n",
       "    <tr style=\"text-align: right;\">\n",
       "      <th></th>\n",
       "      <th>seach</th>\n",
       "      <th>users</th>\n",
       "      <th>views</th>\n",
       "    </tr>\n",
       "  </thead>\n",
       "  <tbody>\n",
       "    <tr>\n",
       "      <th>848445</th>\n",
       "      <td>LANIX ILIUM X510</td>\n",
       "      <td>1</td>\n",
       "      <td>4</td>\n",
       "    </tr>\n",
       "    <tr>\n",
       "      <th>848446</th>\n",
       "      <td>FLEXI COUNTRY VIEJOS</td>\n",
       "      <td>1</td>\n",
       "      <td>3</td>\n",
       "    </tr>\n",
       "    <tr>\n",
       "      <th>848447</th>\n",
       "      <td>ZAPATOS FLEXI COUNTRY CABALLERO</td>\n",
       "      <td>1</td>\n",
       "      <td>4</td>\n",
       "    </tr>\n",
       "    <tr>\n",
       "      <th>848448</th>\n",
       "      <td>XIAOMI REDMI 7A 16GB AZUL</td>\n",
       "      <td>1</td>\n",
       "      <td>1</td>\n",
       "    </tr>\n",
       "    <tr>\n",
       "      <th>848449</th>\n",
       "      <td>BATERIA SUBURBAN EQUIVALENTE 17 CAPAS GUNNER</td>\n",
       "      <td>1</td>\n",
       "      <td>2</td>\n",
       "    </tr>\n",
       "    <tr>\n",
       "      <th>848450</th>\n",
       "      <td>BATERIA GONHER 17 PLACAS</td>\n",
       "      <td>1</td>\n",
       "      <td>2</td>\n",
       "    </tr>\n",
       "    <tr>\n",
       "      <th>848451</th>\n",
       "      <td>ZAPATOS FLEXI HOMBRE ANTIGUOS</td>\n",
       "      <td>1</td>\n",
       "      <td>3</td>\n",
       "    </tr>\n",
       "    <tr>\n",
       "      <th>848452</th>\n",
       "      <td>ZAPATOS FLEXI RETRO</td>\n",
       "      <td>1</td>\n",
       "      <td>3</td>\n",
       "    </tr>\n",
       "    <tr>\n",
       "      <th>848453</th>\n",
       "      <td>ALUGUEL BOB CAT</td>\n",
       "      <td>1</td>\n",
       "      <td>1</td>\n",
       "    </tr>\n",
       "    <tr>\n",
       "      <th>848454</th>\n",
       "      <td>COTONETE FINO</td>\n",
       "      <td>1</td>\n",
       "      <td>1</td>\n",
       "    </tr>\n",
       "  </tbody>\n",
       "</table>\n",
       "</div>"
      ],
      "text/plain": [
       "                                               seach  users  views\n",
       "848445                              LANIX ILIUM X510      1      4\n",
       "848446                          FLEXI COUNTRY VIEJOS      1      3\n",
       "848447               ZAPATOS FLEXI COUNTRY CABALLERO      1      4\n",
       "848448                     XIAOMI REDMI 7A 16GB AZUL      1      1\n",
       "848449  BATERIA SUBURBAN EQUIVALENTE 17 CAPAS GUNNER      1      2\n",
       "848450                      BATERIA GONHER 17 PLACAS      1      2\n",
       "848451                 ZAPATOS FLEXI HOMBRE ANTIGUOS      1      3\n",
       "848452                           ZAPATOS FLEXI RETRO      1      3\n",
       "848453                               ALUGUEL BOB CAT      1      1\n",
       "848454                                 COTONETE FINO      1      1"
      ]
     },
     "execution_count": 67,
     "metadata": {},
     "output_type": "execute_result"
    }
   ],
   "source": [
    "df_searchs.tail(10)"
   ]
  },
  {
   "cell_type": "markdown",
   "metadata": {},
   "source": [
    "Me sorprende que sólo un ser humano estuvo interesado en cotonetes finos"
   ]
  },
  {
   "cell_type": "markdown",
   "metadata": {},
   "source": [
    "## Sesiones"
   ]
  },
  {
   "cell_type": "code",
   "execution_count": 68,
   "metadata": {},
   "outputs": [],
   "source": [
    "line_idx = 0\n",
    "\n",
    "rows = []\n",
    "with open(\"./data/train_dataset.jl\", \"rt\") as fd:\n",
    "    for line in fd:\n",
    "        line_idx += 1\n",
    "        data = json.loads(line)\n",
    "        nevents = len(data['user_history'])\n",
    "        nsearchs = len([event[\"event_info\"] for event in data[\"user_history\"] if event[\"event_type\"] == \"search\"])\n",
    "        nviews = nevents - nsearchs\n",
    "        ti = data['user_history'][0]['event_timestamp']\n",
    "        tf = data['user_history'][-1]['event_timestamp']\n",
    "        rows.append([nevents, nsearchs, nviews, ti, tf])\n",
    "        "
   ]
  },
  {
   "cell_type": "code",
   "execution_count": 69,
   "metadata": {},
   "outputs": [
    {
     "data": {
      "text/plain": [
       "'2019-10-01T20:13:11.202-0400'"
      ]
     },
     "execution_count": 69,
     "metadata": {},
     "output_type": "execute_result"
    }
   ],
   "source": [
    "data['user_history'][0]['event_timestamp']"
   ]
  },
  {
   "cell_type": "code",
   "execution_count": 70,
   "metadata": {},
   "outputs": [],
   "source": [
    "df_sessions = pd.DataFrame(rows, columns=[\"nevents\", \"nsearchs\", \"nviews\", \"first_event\", \"last_event\"])\n",
    "df_sessions[\"first_event\"] = pd.to_datetime(df_sessions.first_event)\n",
    "df_sessions[\"last_event\"] = pd.to_datetime(df_sessions.last_event)\n",
    "df_sessions[\"rel_searchs\"] = df_sessions.nsearchs / df_sessions.nevents"
   ]
  },
  {
   "cell_type": "code",
   "execution_count": 71,
   "metadata": {},
   "outputs": [],
   "source": [
    "df_sessions[\"duration\"] = (df_sessions.last_event - df_sessions.first_event)"
   ]
  },
  {
   "cell_type": "markdown",
   "metadata": {},
   "source": [
    "Las sesiones suelen tener tantas búsquedas como visitas. La mediana en cantidad de eventos es 16, y como es de esperar, está sesgado positivamente."
   ]
  },
  {
   "cell_type": "code",
   "execution_count": 72,
   "metadata": {},
   "outputs": [
    {
     "data": {
      "text/html": [
       "<div>\n",
       "<style scoped>\n",
       "    .dataframe tbody tr th:only-of-type {\n",
       "        vertical-align: middle;\n",
       "    }\n",
       "\n",
       "    .dataframe tbody tr th {\n",
       "        vertical-align: top;\n",
       "    }\n",
       "\n",
       "    .dataframe thead th {\n",
       "        text-align: right;\n",
       "    }\n",
       "</style>\n",
       "<table border=\"1\" class=\"dataframe\">\n",
       "  <thead>\n",
       "    <tr style=\"text-align: right;\">\n",
       "      <th></th>\n",
       "      <th>nevents</th>\n",
       "      <th>nsearchs</th>\n",
       "      <th>nviews</th>\n",
       "      <th>rel_searchs</th>\n",
       "      <th>duration</th>\n",
       "    </tr>\n",
       "  </thead>\n",
       "  <tbody>\n",
       "    <tr>\n",
       "      <th>count</th>\n",
       "      <td>413163.000000</td>\n",
       "      <td>413163.000000</td>\n",
       "      <td>413163.000000</td>\n",
       "      <td>413163.000000</td>\n",
       "      <td>413163</td>\n",
       "    </tr>\n",
       "    <tr>\n",
       "      <th>mean</th>\n",
       "      <td>29.042209</td>\n",
       "      <td>14.689478</td>\n",
       "      <td>14.352730</td>\n",
       "      <td>0.459008</td>\n",
       "      <td>1 days 20:02:01.293112369</td>\n",
       "    </tr>\n",
       "    <tr>\n",
       "      <th>std</th>\n",
       "      <td>36.278935</td>\n",
       "      <td>20.457799</td>\n",
       "      <td>19.293081</td>\n",
       "      <td>0.297345</td>\n",
       "      <td>2 days 00:46:25.688211446</td>\n",
       "    </tr>\n",
       "    <tr>\n",
       "      <th>min</th>\n",
       "      <td>1.000000</td>\n",
       "      <td>0.000000</td>\n",
       "      <td>0.000000</td>\n",
       "      <td>0.000000</td>\n",
       "      <td>0 days 00:00:00</td>\n",
       "    </tr>\n",
       "    <tr>\n",
       "      <th>25%</th>\n",
       "      <td>5.000000</td>\n",
       "      <td>1.000000</td>\n",
       "      <td>2.000000</td>\n",
       "      <td>0.242857</td>\n",
       "      <td>0 days 00:08:06.942500</td>\n",
       "    </tr>\n",
       "    <tr>\n",
       "      <th>50%</th>\n",
       "      <td>16.000000</td>\n",
       "      <td>7.000000</td>\n",
       "      <td>7.000000</td>\n",
       "      <td>0.500000</td>\n",
       "      <td>0 days 23:58:32.102000</td>\n",
       "    </tr>\n",
       "    <tr>\n",
       "      <th>75%</th>\n",
       "      <td>39.000000</td>\n",
       "      <td>19.000000</td>\n",
       "      <td>18.000000</td>\n",
       "      <td>0.666667</td>\n",
       "      <td>3 days 11:31:10.118500</td>\n",
       "    </tr>\n",
       "    <tr>\n",
       "      <th>max</th>\n",
       "      <td>566.000000</td>\n",
       "      <td>284.000000</td>\n",
       "      <td>342.000000</td>\n",
       "      <td>1.000000</td>\n",
       "      <td>6 days 21:57:28.234000</td>\n",
       "    </tr>\n",
       "  </tbody>\n",
       "</table>\n",
       "</div>"
      ],
      "text/plain": [
       "             nevents       nsearchs         nviews    rel_searchs  \\\n",
       "count  413163.000000  413163.000000  413163.000000  413163.000000   \n",
       "mean       29.042209      14.689478      14.352730       0.459008   \n",
       "std        36.278935      20.457799      19.293081       0.297345   \n",
       "min         1.000000       0.000000       0.000000       0.000000   \n",
       "25%         5.000000       1.000000       2.000000       0.242857   \n",
       "50%        16.000000       7.000000       7.000000       0.500000   \n",
       "75%        39.000000      19.000000      18.000000       0.666667   \n",
       "max       566.000000     284.000000     342.000000       1.000000   \n",
       "\n",
       "                        duration  \n",
       "count                     413163  \n",
       "mean   1 days 20:02:01.293112369  \n",
       "std    2 days 00:46:25.688211446  \n",
       "min              0 days 00:00:00  \n",
       "25%       0 days 00:08:06.942500  \n",
       "50%       0 days 23:58:32.102000  \n",
       "75%       3 days 11:31:10.118500  \n",
       "max       6 days 21:57:28.234000  "
      ]
     },
     "execution_count": 72,
     "metadata": {},
     "output_type": "execute_result"
    }
   ],
   "source": [
    "df_sessions.describe()"
   ]
  },
  {
   "cell_type": "markdown",
   "metadata": {},
   "source": [
    "Los datos son de un mes"
   ]
  },
  {
   "cell_type": "code",
   "execution_count": 73,
   "metadata": {},
   "outputs": [
    {
     "data": {
      "text/plain": [
       "first_event   2019-09-24 07:41:04.596000-04:00\n",
       "last_event    2019-09-24 11:24:12.439000-04:00\n",
       "dtype: datetime64[ns, pytz.FixedOffset(-240)]"
      ]
     },
     "execution_count": 73,
     "metadata": {},
     "output_type": "execute_result"
    }
   ],
   "source": [
    "df_sessions[[\"first_event\", \"last_event\"]].min()"
   ]
  },
  {
   "cell_type": "code",
   "execution_count": 74,
   "metadata": {},
   "outputs": [
    {
     "data": {
      "text/plain": [
       "first_event   2019-10-31 20:14:59.186000-04:00\n",
       "last_event    2019-10-31 20:19:14.525000-04:00\n",
       "dtype: datetime64[ns, pytz.FixedOffset(-240)]"
      ]
     },
     "execution_count": 74,
     "metadata": {},
     "output_type": "execute_result"
    }
   ],
   "source": [
    "df_sessions[[\"first_event\", \"last_event\"]].max()"
   ]
  },
  {
   "cell_type": "markdown",
   "metadata": {},
   "source": [
    "# Baselines\n",
    "\n",
    "## Por popularidad"
   ]
  },
  {
   "cell_type": "markdown",
   "metadata": {},
   "source": [
    "### Más vendidos"
   ]
  },
  {
   "cell_type": "code",
   "execution_count": 75,
   "metadata": {},
   "outputs": [],
   "source": [
    "# más vendido\n",
    "most_bougth_rec = df_items_bought.head(10).item.tolist()"
   ]
  },
  {
   "cell_type": "code",
   "execution_count": 76,
   "metadata": {},
   "outputs": [
    {
     "data": {
      "text/plain": [
       "[1587422,\n",
       " 1803710,\n",
       " 10243,\n",
       " 548905,\n",
       " 1906937,\n",
       " 716822,\n",
       " 1361154,\n",
       " 1716388,\n",
       " 725371,\n",
       " 859574]"
      ]
     },
     "execution_count": 76,
     "metadata": {},
     "output_type": "execute_result"
    }
   ],
   "source": [
    "most_bougth_rec"
   ]
  },
  {
   "cell_type": "code",
   "execution_count": 79,
   "metadata": {},
   "outputs": [],
   "source": [
    "IDCG = np.sum([(1 if i != 1 else 12) / np.log2(1 + i) for i in range(1, 11)])\n",
    "\n",
    "def dcg(rec, y_item_id, n=10):\n",
    "    y_domain = item_id_to_domain_idx[y_item_id]\n",
    "    \n",
    "    return np.sum([(1 if yhat_item_id != y_item_id else 12) / np.log2(1 + i)\\\n",
    "                   for i, yhat_item_id in enumerate(rec[:n], 1)\\\n",
    "                  if (item_id_to_domain_idx[yhat_item_id] == y_domain)])"
   ]
  },
  {
   "cell_type": "code",
   "execution_count": 81,
   "metadata": {},
   "outputs": [],
   "source": [
    "viewed_count = 0\n",
    "n_recs = 0\n",
    "sum_dcg = 0\n",
    "with open(\"./data/train_dataset.jl\", \"rt\") as fd:\n",
    "    for line in fd:\n",
    "        n_recs += 1 \n",
    "        data = json.loads(line)\n",
    "        item_bought = data[\"item_bought\"]\n",
    "        sum_dcg += dcg(most_bougth_rec, item_bought)\n",
    "        "
   ]
  },
  {
   "cell_type": "code",
   "execution_count": 82,
   "metadata": {},
   "outputs": [
    {
     "data": {
      "text/plain": [
       "0.008187787770952715"
      ]
     },
     "execution_count": 82,
     "metadata": {},
     "output_type": "execute_result"
    }
   ],
   "source": [
    " sum_dcg / (IDCG * n_recs)"
   ]
  },
  {
   "cell_type": "markdown",
   "metadata": {},
   "source": [
    "### Más visitados"
   ]
  },
  {
   "cell_type": "code",
   "execution_count": 83,
   "metadata": {},
   "outputs": [],
   "source": [
    "most_users_view_rec = df_items_view.sort_values(\"users\", ascending=False).head(10).item.tolist()\n",
    "most_pv_rec = df_items_view.sort_values(\"views\", ascending=False).head(10).item.tolist()"
   ]
  },
  {
   "cell_type": "code",
   "execution_count": 84,
   "metadata": {},
   "outputs": [
    {
     "data": {
      "text/plain": [
       "[1587422,\n",
       " 849156,\n",
       " 10243,\n",
       " 1716388,\n",
       " 1361154,\n",
       " 882697,\n",
       " 1803710,\n",
       " 119703,\n",
       " 1371799,\n",
       " 716822]"
      ]
     },
     "execution_count": 84,
     "metadata": {},
     "output_type": "execute_result"
    }
   ],
   "source": [
    "most_users_view_rec"
   ]
  },
  {
   "cell_type": "code",
   "execution_count": 85,
   "metadata": {},
   "outputs": [
    {
     "data": {
      "text/plain": [
       "[1587422,\n",
       " 849156,\n",
       " 1803710,\n",
       " 10243,\n",
       " 1361154,\n",
       " 882697,\n",
       " 1716388,\n",
       " 716822,\n",
       " 119703,\n",
       " 1371799]"
      ]
     },
     "execution_count": 85,
     "metadata": {},
     "output_type": "execute_result"
    }
   ],
   "source": [
    "most_pv_rec"
   ]
  },
  {
   "cell_type": "markdown",
   "metadata": {},
   "source": [
    "Tomando cantidad de usuarios/sesiones únicas"
   ]
  },
  {
   "cell_type": "code",
   "execution_count": 86,
   "metadata": {},
   "outputs": [],
   "source": [
    "viewed_count = 0\n",
    "n_recs = 0\n",
    "sum_dcg = 0\n",
    "with open(\"./data/train_dataset.jl\", \"rt\") as fd:\n",
    "    for line in fd:\n",
    "        n_recs += 1 \n",
    "        data = json.loads(line)\n",
    "        item_bought = data[\"item_bought\"]\n",
    "        sum_dcg += dcg(most_users_view_rec, item_bought)\n",
    "        "
   ]
  },
  {
   "cell_type": "code",
   "execution_count": 87,
   "metadata": {},
   "outputs": [
    {
     "data": {
      "text/plain": [
       "0.010269195591367646"
      ]
     },
     "execution_count": 87,
     "metadata": {},
     "output_type": "execute_result"
    }
   ],
   "source": [
    "sum_dcg / (IDCG * n_recs)"
   ]
  },
  {
   "cell_type": "markdown",
   "metadata": {},
   "source": [
    "Tomando cantidad de visitas"
   ]
  },
  {
   "cell_type": "code",
   "execution_count": 88,
   "metadata": {},
   "outputs": [],
   "source": [
    "n_recs = 0\n",
    "sum_dcg = 0\n",
    "with open(\"./data/train_dataset.jl\", \"rt\") as fd:\n",
    "    for line in fd:\n",
    "        n_recs += 1 \n",
    "        data = json.loads(line)\n",
    "        item_bought = data[\"item_bought\"]\n",
    "        sum_dcg += dcg(most_pv_rec, item_bought)"
   ]
  },
  {
   "cell_type": "code",
   "execution_count": 89,
   "metadata": {},
   "outputs": [
    {
     "data": {
      "text/plain": [
       "0.010245948094280892"
      ]
     },
     "execution_count": 89,
     "metadata": {},
     "output_type": "execute_result"
    }
   ],
   "source": [
    "sum_dcg / (IDCG * n_recs)"
   ]
  },
  {
   "cell_type": "markdown",
   "metadata": {},
   "source": [
    "## Productos visitados en la sesión\n",
    "\n",
    "Se los ordena por cantidad de pv"
   ]
  },
  {
   "cell_type": "code",
   "execution_count": 91,
   "metadata": {},
   "outputs": [],
   "source": [
    "n_recs = 0\n",
    "sum_dcg = 0\n",
    "\n",
    "with open(\"./data/train_dataset.jl\", \"rt\") as fd:\n",
    "    for line in fd:\n",
    "        n_recs += 1\n",
    "        data = json.loads(line)\n",
    "        item_bouyght = data[\"item_bought\"]\n",
    "        items_rank = Counter([event[\"event_info\"] for event in data[\"user_history\"] if event[\"event_type\"] == \"view\"])\n",
    "        rec = [k for k,_ in items_rank.most_common()]\n",
    "        \n",
    "        # rellena con más vistos\n",
    "        rec += [k for k in most_users_view_rec if not k in rec]\n",
    "        assert len(rec) >= 10\n",
    "        sum_dcg += dcg(rec, item_bought)\n",
    "        "
   ]
  },
  {
   "cell_type": "code",
   "execution_count": 93,
   "metadata": {},
   "outputs": [
    {
     "data": {
      "text/plain": [
       "0.00018809943500347636"
      ]
     },
     "execution_count": 93,
     "metadata": {},
     "output_type": "execute_result"
    }
   ],
   "source": [
    "sum_dcg / (IDCG * n_recs)"
   ]
  },
  {
   "cell_type": "markdown",
   "metadata": {},
   "source": [
    "Por orden de visita"
   ]
  },
  {
   "cell_type": "code",
   "execution_count": 95,
   "metadata": {},
   "outputs": [],
   "source": [
    "def unique(seq):\n",
    "    \"\"\"Elimina duplicados en una lista manteniendo el orden\"\"\"\n",
    "    seen = set()\n",
    "    seen_add = seen.add\n",
    "    return [x for x in seq if not (x in seen or seen_add(x))]"
   ]
  },
  {
   "cell_type": "code",
   "execution_count": 96,
   "metadata": {},
   "outputs": [],
   "source": [
    "n_recs = 0\n",
    "sum_dcg = 0\n",
    "\n",
    "with open(\"./data/train_dataset.jl\", \"rt\") as fd:\n",
    "    for line in fd:\n",
    "        n_recs += 1\n",
    "        data = json.loads(line)\n",
    "        item_bought = data[\"item_bought\"]\n",
    "        rec = [event[\"event_info\"] for event in data[\"user_history\"] if event[\"event_type\"] == \"view\"][::-1]\n",
    "        rec = unique(rec)\n",
    "        # rellena con más vistos\n",
    "        rec += [k for k in most_users_view_rec if not k in rec]\n",
    "\n",
    "        assert len(rec) >= 10\n",
    "        sum_dcg += dcg(rec, item_bought)"
   ]
  },
  {
   "cell_type": "code",
   "execution_count": 97,
   "metadata": {},
   "outputs": [
    {
     "data": {
      "text/plain": [
       "0.2085044337731143"
      ]
     },
     "execution_count": 97,
     "metadata": {},
     "output_type": "execute_result"
    }
   ],
   "source": [
    "sum_dcg / (IDCG * n_recs)"
   ]
  },
  {
   "cell_type": "markdown",
   "metadata": {},
   "source": [
    "# Separación Train/Test/Validación"
   ]
  },
  {
   "cell_type": "code",
   "execution_count": 10,
   "metadata": {},
   "outputs": [],
   "source": [
    "import random"
   ]
  },
  {
   "cell_type": "code",
   "execution_count": 3,
   "metadata": {},
   "outputs": [],
   "source": [
    "with open(\"./data/train_dataset.jl\", \"rt\") as fd:\n",
    "    lines=[line for line in fd.readlines()]"
   ]
  },
  {
   "cell_type": "code",
   "execution_count": 7,
   "metadata": {},
   "outputs": [
    {
     "data": {
      "text/plain": [
       "413163"
      ]
     },
     "execution_count": 7,
     "metadata": {},
     "output_type": "execute_result"
    }
   ],
   "source": [
    "len(lines)"
   ]
  },
  {
   "cell_type": "code",
   "execution_count": 8,
   "metadata": {},
   "outputs": [
    {
     "data": {
      "text/plain": [
       "'{\"user_history\": [{\"event_info\": \"COTONETE FINO\", \"event_timestamp\": \"2019-10-01T20:13:11.202-0400\", \"event_type\": \"search\"}, {\"event_info\": 359634, \"event_timestamp\": \"2019-10-01T20:20:36.823-0400\", \"event_type\": \"view\"}, {\"event_info\": 1348242, \"event_timestamp\": \"2019-10-04T08:34:56.361-0400\", \"event_type\": \"view\"}, {\"event_info\": 792798, \"event_timestamp\": \"2019-10-07T10:49:32.217-0400\", \"event_type\": \"view\"}, {\"event_info\": 258196, \"event_timestamp\": \"2019-10-07T10:52:21.825-0400\", \"event_type\": \"view\"}, {\"event_info\": 12716, \"event_timestamp\": \"2019-10-07T10:53:07.399-0400\", \"event_type\": \"view\"}, {\"event_info\": 258196, \"event_timestamp\": \"2019-10-07T10:55:32.393-0400\", \"event_type\": \"view\"}], \"item_bought\": 1212472}'"
      ]
     },
     "execution_count": 8,
     "metadata": {},
     "output_type": "execute_result"
    }
   ],
   "source": [
    "lines[-1]"
   ]
  },
  {
   "cell_type": "code",
   "execution_count": 11,
   "metadata": {},
   "outputs": [],
   "source": [
    "random.seed(123)\n",
    "random.shuffle(lines)"
   ]
  },
  {
   "cell_type": "code",
   "execution_count": 12,
   "metadata": {},
   "outputs": [
    {
     "data": {
      "text/plain": [
       "'{\"user_history\": [{\"event_info\": \"BRINQUEDOS BARULHO LUZES RECEM NASCIDO\", \"event_timestamp\": \"2019-10-12T10:54:26.433-0400\", \"event_type\": \"search\"}, {\"event_info\": \"BRINQUEDOS BARULHO LUZES RECEM NASCIDO\", \"event_timestamp\": \"2019-10-12T10:54:43.832-0400\", \"event_type\": \"search\"}, {\"event_info\": \"BRINQUEDOS BARULHO LUZES RECEM NASCIDO\", \"event_timestamp\": \"2019-10-12T10:54:56.578-0400\", \"event_type\": \"search\"}, {\"event_info\": \"BRINQUEDOS BARULHO LUZES RECEM NASCIDO\", \"event_timestamp\": \"2019-10-12T10:55:04.272-0400\", \"event_type\": \"search\"}, {\"event_info\": \"BRINQUEDOS BERCO\", \"event_timestamp\": \"2019-10-12T10:55:35.078-0400\", \"event_type\": \"search\"}, {\"event_info\": \"BRINQUEDOS BERCO\", \"event_timestamp\": \"2019-10-12T10:55:56.159-0400\", \"event_type\": \"search\"}, {\"event_info\": 1650107, \"event_timestamp\": \"2019-10-12T10:56:37.986-0400\", \"event_type\": \"view\"}, {\"event_info\": \"BRINQUEDOS BERCO\", \"event_timestamp\": \"2019-10-12T10:56:51.785-0400\", \"event_type\": \"search\"}, {\"event_info\": 2088767, \"event_timestamp\": \"2019-10-12T10:56:57.582-0400\", \"event_type\": \"view\"}, {\"event_info\": \"BRINQUEDOS BERCO\", \"event_timestamp\": \"2019-10-12T10:57:02.467-0400\", \"event_type\": \"search\"}, {\"event_info\": \"BRINQUEDOS BERCO\", \"event_timestamp\": \"2019-10-12T10:57:04.545-0400\", \"event_type\": \"search\"}, {\"event_info\": 1578746, \"event_timestamp\": \"2019-10-12T10:57:07.271-0400\", \"event_type\": \"view\"}, {\"event_info\": \"BRINQUEDOS BERCO\", \"event_timestamp\": \"2019-10-12T10:57:24.270-0400\", \"event_type\": \"search\"}, {\"event_info\": 731929, \"event_timestamp\": \"2019-10-12T10:57:40.393-0400\", \"event_type\": \"view\"}, {\"event_info\": \"BRINQUEDOS BERCO\", \"event_timestamp\": \"2019-10-12T10:58:00.752-0400\", \"event_type\": \"search\"}, {\"event_info\": \"BRINQUEDOS BERCO\", \"event_timestamp\": \"2019-10-12T10:58:09.553-0400\", \"event_type\": \"search\"}, {\"event_info\": \"BRINQUEDOS BERCO\", \"event_timestamp\": \"2019-10-12T10:58:28.898-0400\", \"event_type\": \"search\"}, {\"event_info\": \"BRINQUEDOS BERCO\", \"event_timestamp\": \"2019-10-12T10:58:53.318-0400\", \"event_type\": \"search\"}, {\"event_info\": \"BRINQUEDOS BERCO\", \"event_timestamp\": \"2019-10-12T10:59:22.714-0400\", \"event_type\": \"search\"}, {\"event_info\": \"BRINQUEDOS BERCO\", \"event_timestamp\": \"2019-10-12T10:59:59.109-0400\", \"event_type\": \"search\"}, {\"event_info\": \"BRINQUEDOS CARRINHO\", \"event_timestamp\": \"2019-10-12T11:00:32.119-0400\", \"event_type\": \"search\"}, {\"event_info\": 1021195, \"event_timestamp\": \"2019-10-12T11:00:50.267-0400\", \"event_type\": \"view\"}, {\"event_info\": 2009427, \"event_timestamp\": \"2019-10-12T11:01:19.345-0400\", \"event_type\": \"view\"}, {\"event_info\": 1021195, \"event_timestamp\": \"2019-10-12T11:01:26.395-0400\", \"event_type\": \"view\"}, {\"event_info\": 1896510, \"event_timestamp\": \"2019-10-12T11:01:30.664-0400\", \"event_type\": \"view\"}, {\"event_info\": 1021195, \"event_timestamp\": \"2019-10-12T11:01:41.022-0400\", \"event_type\": \"view\"}, {\"event_info\": \"BRINQUEDOS CARRINHO\", \"event_timestamp\": \"2019-10-12T11:01:41.604-0400\", \"event_type\": \"search\"}], \"item_bought\": 572437}\\n'"
      ]
     },
     "execution_count": 12,
     "metadata": {},
     "output_type": "execute_result"
    }
   ],
   "source": [
    "lines[-1]"
   ]
  },
  {
   "cell_type": "code",
   "execution_count": 14,
   "metadata": {},
   "outputs": [],
   "source": [
    "test_size = val_size =  20000"
   ]
  },
  {
   "cell_type": "code",
   "execution_count": 15,
   "metadata": {},
   "outputs": [],
   "source": [
    "i = 0\n",
    "with open(\"./data/train_dataset-test_split.jl\", \"wt\") as fd:\n",
    "    fd.writelines(lines[i: test_size + i])\n",
    "i += test_size\n",
    "    \n",
    "with open(\"./data/train_dataset-val_split.jl\", \"wt\") as fd:\n",
    "    fd.writelines(lines[i: val_size + i])\n",
    "i += val_size\n",
    "with open(\"./data/train_dataset-train_split.jl\", \"wt\") as fd:\n",
    "    fd.writelines(lines[i: ])"
   ]
  },
  {
   "cell_type": "code",
   "execution_count": null,
   "metadata": {},
   "outputs": [],
   "source": []
  }
 ],
 "metadata": {
  "kernelspec": {
   "display_name": "Python 3",
   "language": "python",
   "name": "python3"
  },
  "language_info": {
   "codemirror_mode": {
    "name": "ipython",
    "version": 3
   },
   "file_extension": ".py",
   "mimetype": "text/x-python",
   "name": "python",
   "nbconvert_exporter": "python",
   "pygments_lexer": "ipython3",
   "version": "3.6.9"
  }
 },
 "nbformat": 4,
 "nbformat_minor": 4
}
